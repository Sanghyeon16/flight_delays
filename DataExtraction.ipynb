{
 "cells": [
  {
   "cell_type": "code",
   "execution_count": null,
   "metadata": {},
   "outputs": [],
   "source": [
    "%%time\n",
    "\n",
    "import csv\n",
    "\n",
    "def makeHeadfile(rawFileName='FlightDelays.csv', newFileName='FlightDelays_heads.csv', headSize=500, merge=False):\n",
    "    data = []\n",
    "    with open(rawFileName) as csv_file:\n",
    "        csv_reader = csv.reader(csv_file, delimiter=',')\n",
    "        line_count = 0\n",
    "        for row in csv_reader:\n",
    "            data.append(row)\n",
    "            line_count += 1\n",
    "            if line_count > headSize:\n",
    "                break\n",
    "    with open(newFileName, mode='w', newline='') as head_file:\n",
    "        head_writer = csv.writer(head_file, delimiter=',', quoting=csv.QUOTE_MINIMAL)\n",
    "        head_writer.writerows(data)\n",
    "    \n",
    "    return data[0]\n",
    "\n",
    "#save head of FlightDelays_1k_sample.csv file\n",
    "raw_col = makeHeadfile(rawFileName='FlightDelays_1k_sample.csv',headSize=1000)"
   ]
  },
  {
   "cell_type": "code",
   "execution_count": 1,
   "metadata": {},
   "outputs": [
    {
     "name": "stdout",
     "output_type": "stream",
     "text": [
      "Wall time: 0 ns\n"
     ]
    }
   ],
   "source": [
    "%%time\n",
    "\n",
    "def dataLoad(baseFileName, addingFileName):\n",
    "    '''\n",
    "    data is a list of FlightDelays_head file.\n",
    "    merge is a list of lists of AirFares file divided by its year and quaters to decrease search iteration.\n",
    "    '''\n",
    "    data = []\n",
    "    merge=[]\n",
    "    \n",
    "    with open(baseFileName) as csv_file:\n",
    "        csv_reader = csv.reader(csv_file, delimiter=',')\n",
    "        line_count = 0\n",
    "        for row in csv_reader:\n",
    "            if row[31] != 1:\n",
    "                data.append(row)\n",
    "            \n",
    "    with open(addingFileName) as csv_file:\n",
    "            csv_reader = csv.reader(csv_file, delimiter=',')\n",
    "            line_count = 0\n",
    "            qt = []\n",
    "            init = 0\n",
    "            for row in csv_reader:\n",
    "                if row[0] == '2018' and row[1] == '1':\n",
    "                    qt.append(row)\n",
    "                elif row[0] == '2018' and row[1] == '2':\n",
    "                    if init==0:\n",
    "                        merge.append(qt)\n",
    "                        qt=[]\n",
    "                        init = 1\n",
    "                    qt.append(row)\n",
    "                elif row[0] == '2018' and row[1] == '3':\n",
    "                    if init==0:\n",
    "                        merge.append(qt)\n",
    "                        qt=[]\n",
    "                        init = 1\n",
    "                    qt.append(row)\n",
    "                elif row[0] == '2018' and row[1] == '4':\n",
    "                    if init==0:\n",
    "                        merge.append(qt)\n",
    "                        qt=[]\n",
    "                        init = 1\n",
    "                    qt.append(row)\n",
    "                elif row[0] == '2019' and row[1] == '1':\n",
    "                    if init==0:\n",
    "                        merge.append(qt)\n",
    "                        qt=[]\n",
    "                        init = 1\n",
    "                    qt.append(row)\n",
    "                elif row[0] == '2019' and row[1] == '2':\n",
    "                    if init==0:\n",
    "                        merge.append(qt)\n",
    "                        qt=[]\n",
    "                        init = 1\n",
    "                    qt.append(row)\n",
    "                elif row[0] == '2019' and row[1] == '3':\n",
    "                    if init==0:\n",
    "                        merge.append(qt)\n",
    "                        qt=[]\n",
    "                        init = 1\n",
    "                    qt.append(row)\n",
    "                else:\n",
    "                    AFindex = row\n",
    "            merge.append(qt)\n",
    "    return data, merge, AFindex\n",
    "\n",
    "\n",
    "def addCol(data, colNames):\n",
    "    for newcol in colNames:\n",
    "        data = [row + [''] for row in data]\n",
    "        data[0][-1] = newcol\n",
    "    return data\n",
    "\n",
    "\n",
    "def mergeFlightDelaysAndAirFares(data, merge):\n",
    "    newData = []\n",
    "    for data_row in data:\n",
    "        if data_row[0] == '2018' and data_row[1] == '1':\n",
    "            for i, merge_row in enumerate(merge[0]):\n",
    "                if data_row[9] == merge_row[2] and data_row[10] == merge_row[4]:\n",
    "                    data_row[-8:] = merge[0][i][-8:]\n",
    "        elif data_row[0] == '2018' and data_row[1] == '2':\n",
    "            for i, merge_row in enumerate(merge[1]):\n",
    "                if data_row[9] == merge_row[2] and data_row[10] == merge_row[4]:\n",
    "                    data_row[-8:] = merge[0][i][-8:]\n",
    "        elif data_row[0] == '2018' and data_row[1] == '3':\n",
    "            for i, merge_row in enumerate(merge[2]):\n",
    "                if data_row[9] == merge_row[2] and data_row[10] == merge_row[4]:\n",
    "                    data_row[-8:] = merge[0][i][-8:]\n",
    "        elif data_row[0] == '2018' and data_row[1] == '4':\n",
    "            for i, merge_row in enumerate(merge[3]):\n",
    "                if data_row[9] == merge_row[2] and data_row[10] == merge_row[4]:\n",
    "                    data_row[-8:] = merge[0][i][-8:]\n",
    "        elif data_row[0] == '2019' and data_row[1] == '1':\n",
    "            for i, merge_row in enumerate(merge[4]):\n",
    "                if data_row[9] == merge_row[2] and data_row[10] == merge_row[4]:\n",
    "                    data_row[-8:] = merge[0][i][-8:]            \n",
    "        elif data_row[0] == '2019' and data_row[1] == '2':\n",
    "            for i, merge_row in enumerate(merge[5]):\n",
    "                if data_row[9] == merge_row[2] and data_row[10] == merge_row[4]:\n",
    "                    data_row[-8:] = merge[0][i][-8:]\n",
    "        elif data_row[0] == '2019' and data_row[1] == '3':\n",
    "            for i, merge_row in enumerate(merge[6]):\n",
    "                if data_row[9] == merge_row[2] and data_row[10] == merge_row[4]:\n",
    "                    data_row[-8:] = merge[0][i][-8:]\n",
    "        \n",
    "            \n",
    "        \n",
    "        newData.append(data_row)\n",
    "    return newData\n",
    "\n",
    "def removeOtherNoise(data, noise_list):\n",
    "    rm = []\n",
    "    ndata = []\n",
    "    for noise in noise_list:\n",
    "        for i, att in enumerate(mergedData[0]):\n",
    "            if att == noise:\n",
    "                break\n",
    "        for line in mergedData:\n",
    "            line.pop(i)\n",
    "            \n",
    "    return mergedData"
   ]
  },
  {
   "cell_type": "code",
   "execution_count": 5,
   "metadata": {
    "scrolled": true
   },
   "outputs": [
    {
     "name": "stdout",
     "output_type": "stream",
     "text": [
      "Wall time: 1.1 s\n"
     ]
    }
   ],
   "source": [
    "%%time\n",
    "import csv\n",
    "baseFileName = 'FlightDelays_heads.csv'\n",
    "addingFileName = 'AirFares.csv'\n",
    "\n",
    "#Load csv files of FlightDelays_heads and AirFares\n",
    "data, merge, AFindex = dataLoad(baseFileName, addingFileName)\n",
    "\n",
    "\n",
    "#make new columns to FlightDelays_heads from AirFares\n",
    "newCols = AFindex[6:]\n",
    "data = addCol(data, newCols)\n",
    "\n",
    "#Merge fare information from AirFares to FlightDelays_head file by searching their airport information.\n",
    "mergedData = mergeFlightDelaysAndAirFares(data, merge)\n"
   ]
  },
  {
   "cell_type": "code",
   "execution_count": 7,
   "metadata": {},
   "outputs": [
    {
     "name": "stdout",
     "output_type": "stream",
     "text": [
      "Wall time: 15.9 ms\n"
     ]
    }
   ],
   "source": [
    "%%time\n",
    "import pandas as pd\n",
    "import numpy as np\n",
    "\n",
    "df_MG = pd.DataFrame.from_records(mergedData[1:], columns=mergedData[0])\n",
    "df_MG = df_MG[df_MG.CANCELED == '0']\n",
    "\n",
    "inputX = ['YEAR', 'QUARTER', 'MONTH','DAY_OF_MONTH','DAY_OF_WEEK','CARRIER','FL_NUM','Route','ORIGIN', 'DEST',\n",
    "       'CRS_DEP_TIME', 'CRS_ARR_TIME', 'CRS_ELAPSED_TIME', 'DISTANCE', 'PASSENGERS', 'EMPFTE', 'NET_INCOME',\n",
    "        'OP_REVENUES', 'fare', 'carrier_lg', 'large_ms', 'fare_lg', 'ARR_DELAY_GROUP']\n",
    "\n",
    "df_MG = df_MG[inputX]\n",
    "df_MG = df_MG.replace(np.nan, 0)\n",
    "df_MG = df_MG.replace('', 0)\n",
    "\n"
   ]
  },
  {
   "cell_type": "code",
   "execution_count": 8,
   "metadata": {},
   "outputs": [],
   "source": [
    "def codeHash(code):\n",
    "    # Example: variable=\"ABC\"=>26^2*1+26*2+3=731\n",
    "    sum0 = 0\n",
    "    loop = 1\n",
    "    for char in code[::-1]:\n",
    "        \n",
    "        sum0+=(ord(char)-ord('A')+1)*(loop)\n",
    "        loop*=26\n",
    "    #they are too large or small\n",
    "    return float(sum0)\n",
    "\n",
    "def typeDef(df_MG):\n",
    "    df_MG = df_MG.astype({'YEAR' : float})\n",
    "    df_MG = df_MG.astype({'QUARTER' : float})\n",
    "    df_MG = df_MG.astype({'MONTH' : float})\n",
    "    df_MG = df_MG.astype({'DAY_OF_MONTH' : float})\n",
    "    df_MG = df_MG.astype({'DAY_OF_WEEK' : float})\n",
    "    df_MG = df_MG.astype({'CARRIER': str})\n",
    "    df_MG = df_MG.astype({'FL_NUM': float})\n",
    "    df_MG = df_MG.astype({'Route': float})\n",
    "    df_MG = df_MG.astype({'ORIGIN': str})\n",
    "    df_MG = df_MG.astype({'DEST': str})\n",
    "    df_MG = df_MG.astype({'CRS_DEP_TIME': str})\n",
    "    df_MG = df_MG.astype({'CRS_ARR_TIME': str})\n",
    "    df_MG = df_MG.astype({'CRS_ELAPSED_TIME': float})\n",
    "    df_MG = df_MG.astype({'DISTANCE': float})\n",
    "    df_MG = df_MG.astype({'PASSENGERS': float})\n",
    "    df_MG = df_MG.astype({'EMPFTE': float})\n",
    "    df_MG = df_MG.astype({'NET_INCOME': float})\n",
    "    df_MG = df_MG.astype({'OP_REVENUES': float})\n",
    "    df_MG = df_MG.astype({'fare': float})\n",
    "    df_MG = df_MG.astype({'carrier_lg': str})\n",
    "    df_MG = df_MG.astype({'large_ms': float})\n",
    "    df_MG = df_MG.astype({'fare_lg': float})\n",
    "    df_MG = df_MG.astype({'ARR_DELAY_GROUP': float})\n",
    "    return df_MG\n",
    "\n",
    "def changeVal(df_MG):\n",
    "    df_MG['CARRIER'] = df_MG['CARRIER'].apply(codeHash)\n",
    "    df_MG['ORIGIN'] = df_MG['ORIGIN'].apply(codeHash)\n",
    "    df_MG['DEST'] = df_MG['DEST'].apply(codeHash)\n",
    "    df_MG['carrier_lg'] = df_MG['carrier_lg'].apply(codeHash)\n",
    "\n",
    "    f = lambda x: (float(x[:2])*60+float(x[2:])) if (len(x) > 3) else ((float(x[0])*60+float(x[1:])) if (len(x) <=3 and len(x) >= 2) else 0)\n",
    "    df_MG['CRS_DEP_TIME'] = df_MG['CRS_DEP_TIME'].apply(f)\n",
    "    df_MG['CRS_ARR_TIME'] = df_MG['CRS_ARR_TIME'].apply(f)\n",
    "    return df_MG\n",
    "\n",
    "def fareFill(df_MG):\n",
    "    '''\n",
    "    need to find a way how to fill in the empty values\n",
    "    '''\n",
    "    \n",
    "    return df_MG"
   ]
  },
  {
   "cell_type": "code",
   "execution_count": 10,
   "metadata": {},
   "outputs": [
    {
     "name": "stdout",
     "output_type": "stream",
     "text": [
      "Wall time: 95.3 ms\n"
     ]
    }
   ],
   "source": [
    "%%time\n",
    "df_MG = changeVal(typeDef(df_MG))\n",
    "df_MG.to_csv(r'data.csv', index = True)"
   ]
  },
  {
   "cell_type": "markdown",
   "metadata": {},
   "source": [
    "Tablueau"
   ]
  },
  {
   "cell_type": "code",
   "execution_count": null,
   "metadata": {},
   "outputs": [],
   "source": [
    "# import pantab\n",
    "# pantab.frame_to_hyper(df_MG, \"MG1.hyper\", table=\"the_table\") \n",
    "# df_MG"
   ]
  },
  {
   "cell_type": "markdown",
   "metadata": {},
   "source": [
    "Pandas Profiling  \n",
    "Doesn't work for now"
   ]
  },
  {
   "cell_type": "code",
   "execution_count": null,
   "metadata": {},
   "outputs": [],
   "source": [
    "\n",
    "# from pandas_profiling import ProfileReport\n",
    "# profile = ProfileReport(df_MG)"
   ]
  }
 ],
 "metadata": {
  "kernelspec": {
   "display_name": "Python 3",
   "language": "python",
   "name": "python3"
  },
  "language_info": {
   "codemirror_mode": {
    "name": "ipython",
    "version": 3
   },
   "file_extension": ".py",
   "mimetype": "text/x-python",
   "name": "python",
   "nbconvert_exporter": "python",
   "pygments_lexer": "ipython3",
   "version": "3.7.6"
  }
 },
 "nbformat": 4,
 "nbformat_minor": 2
}
