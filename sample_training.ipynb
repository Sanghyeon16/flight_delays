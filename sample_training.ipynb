{
 "cells": [
  {
   "cell_type": "markdown",
   "metadata": {},
   "source": [
    "DSC2020\n",
    "-----\n",
    "\n",
    "Additional attribute generation\n",
    "-----"
   ]
  },
  {
   "cell_type": "code",
   "execution_count": null,
   "metadata": {},
   "outputs": [],
   "source": [
    "'''\n",
    "addditional attribute making functions\n",
    "'''\n",
    "import pandas as pd\n",
    "import numpy as np\n",
    "import copy\n",
    "from sklearn.preprocessing import LabelEncoder\n",
    "from sklearn.preprocessing import LabelBinarizer\n",
    "\n",
    "\n",
    "def noiseFilter(df):\n",
    "    df = df[['YEAR', 'QUARTER', 'MONTH', 'DAY_OF_MONTH', 'DAY_OF_WEEK', 'CARRIER','FL_NUM','Route',\n",
    "          'ORIGIN', 'DEST','DEST_STATE', 'CRS_DEP_TIME','DISTANCE', 'PASSENGERS', 'EMPFTE',\n",
    "           'NET_INCOME', 'OP_REVENUES', 'fare', 'carrier_lg', 'large_ms',\n",
    "           'fare_lg', 'HUBS', 'ARR_DELAY_GROUP']]\n",
    "\n",
    "    df = df.replace(np.nan, 'rm_val')\n",
    "    df = df.replace('', 'rm_val')\n",
    "    col = df.columns\n",
    "    for c in col:\n",
    "        df = df[df[c] != 'rm_val']\n",
    "    return df\n",
    "\n",
    "def makeDisCat(data):\n",
    "    '''\n",
    "    short-term travel and long-term travel rule\n",
    "    https://www.pointhacks.com.au/differences-short-medium-long-haul-flights/\n",
    "    '''\n",
    "    rule = 3000\n",
    "    def disCat(row):\n",
    "        if row['DISTANCE'] >= rule:\n",
    "            return 1\n",
    "        else:\n",
    "            return 0 \n",
    "        \n",
    "    data['DISTANCE_CAT'] = data.apply (lambda row: disCat(row), axis=1)\n",
    "    return data\n",
    "\n",
    "def makeAvgFareperMile(data):\n",
    "    \n",
    "    def avgfpm(row):\n",
    "        return  row['fare'] / row['DISTANCE']\n",
    "        \n",
    "    data['AVG_FARE_MILE'] = data.apply (lambda row: avgfpm(row), axis=1)\n",
    "    return data\n",
    "\n",
    "\n",
    "def makeOriginState(data):\n",
    "    \n",
    "    d = data.drop(['YEAR', 'QUARTER', 'MONTH', 'DAY_OF_MONTH', 'DAY_OF_WEEK', 'CARRIER','FL_NUM','Route',\n",
    "              'CRS_DEP_TIME','DISTANCE', 'PASSENGERS', 'EMPFTE',\n",
    "               'NET_INCOME', 'OP_REVENUES', 'fare', 'carrier_lg', 'large_ms',\n",
    "               'fare_lg', 'HUBS', 'ARR_DELAY_GROUP'], axis=1).to_dict(orient='records').copy()\n",
    "\n",
    "    dic = {}\n",
    "    for r in d:\n",
    "        dic[r['ORIGIN']] = 0\n",
    "    for r in  d:\n",
    "        dic[r['DEST']] = r['DEST_STATE']\n",
    "        \n",
    "    def f(row):\n",
    "        return dic[row['ORIGIN']] \n",
    "    \n",
    "    data['ORIGIN_STATE'] = data.apply (lambda row: f(row), axis=1)\n",
    "    \n",
    "    return data\n",
    "    \n",
    "def dataType(data, catagorical):\n",
    "    \n",
    "    def hhmm(hm):\n",
    "        arr = str(hm)\n",
    "        if (len(arr) > 3):\n",
    "            t = (int(arr[:2])*60+int(arr[2:]))\n",
    "        elif len(arr) == 3:\n",
    "            t = (int(arr[0])*60+int(arr[1:]))\n",
    "        elif len(arr) <= 2:\n",
    "            if arr == '0.0':\n",
    "                t = 0\n",
    "            else:\n",
    "                t = int(arr)\n",
    "    \n",
    "        return t\n",
    "    \n",
    "    cat_data = df.drop(df[df['carrier_lg'] == '0'].index)\n",
    "    \n",
    "    cat_data['CRS_DEP_TIME'] = cat_data['CRS_DEP_TIME'].astype('int')\n",
    "    cat_data['CRS_DEP_TIME'] = cat_data['CRS_DEP_TIME'].apply(hhmm)\n",
    "    \n",
    "    cat_data['YEAR'] = cat_data['YEAR'].astype('int')\n",
    "    cat_data['QUARTER'] = cat_data['QUARTER'].astype('int')\n",
    "    cat_data['MONTH'] = cat_data['MONTH'].astype('int')\n",
    "    cat_data['DAY_OF_MONTH'] = cat_data['DAY_OF_MONTH'].astype('int')\n",
    "    cat_data['DAY_OF_WEEK'] = cat_data['DAY_OF_WEEK'].astype('int')\n",
    "    cat_data['DISTANCE'] = cat_data['DISTANCE'].astype('int')\n",
    "    cat_data['PASSENGERS'] = cat_data['PASSENGERS'].astype('int')\n",
    "    cat_data['EMPFTE'] = cat_data['EMPFTE'].astype('int')\n",
    "    cat_data['NET_INCOME'] = cat_data['NET_INCOME'].astype('float')\n",
    "    cat_data['OP_REVENUES'] = cat_data['OP_REVENUES'].astype('float')\n",
    "    cat_data['fare'] = cat_data['fare'].astype('float')\n",
    "    cat_data['large_ms'] = cat_data['large_ms'].astype('float')\n",
    "    cat_data['fare_lg'] = cat_data['fare_lg'].astype('float')\n",
    "    cat_data['OP_REVENUES'] = cat_data['OP_REVENUES'].astype('float')\n",
    "    cat_data['AVG_FARE_MILE'] = cat_data['AVG_FARE_MILE'].astype('float')\n",
    "    \n",
    "    for cat in catagorical:\n",
    "        cat_data[cat] = cat_data[cat].astype('category')\n",
    "        \n",
    "    cat_data['ARR_DELAY_GROUP'] = cat_data['ARR_DELAY_GROUP'].astype('category')\n",
    "\n",
    "    return cat_data"
   ]
  },
  {
   "cell_type": "code",
   "execution_count": null,
   "metadata": {},
   "outputs": [],
   "source": [
    "%%time\n",
    "\n",
    "ourAtt = 'ourAtt.csv'\n",
    "df = pd.read_csv(ourAtt)\n",
    "\n",
    "categorical = ['QUARTER', 'MONTH', 'DAY_OF_MONTH', 'DAY_OF_WEEK','CARRIER','ORIGIN','DEST','DEST_STATE','DEST_STATE','DISTANCE_CAT', 'carrier_lg','HUBS']\n",
    "\n",
    "df = noiseFilter(df)\n",
    "df = makeDisCat(df)\n",
    "df = makeOriginState(df)\n",
    "df = makeAvgFareperMile(df)\n",
    "df = dataType(df, categorical)\n",
    "df = df.reset_index(drop=True)\n",
    "\n",
    "df.to_csv(r'cleanData.csv', index = False)"
   ]
  },
  {
   "cell_type": "markdown",
   "metadata": {},
   "source": [
    "One-Hot Encoding for all categorical attributes\n",
    "-----"
   ]
  },
  {
   "cell_type": "code",
   "execution_count": null,
   "metadata": {},
   "outputs": [],
   "source": [
    "'''\n",
    "usStates = ['AL','AK','AZ','AR','CA','CO','CT','DE','FL','GA','HI','ID','IL','IN','IA','KS','KY',\n",
    "            'LA','ME','MD','MA','MI','MS','MO','MT','NE','NV','NH','NJ','NM','NY','NC','ND','OH',\n",
    "            'OK','OR','PA','RI','SC','SD','TN','TX','UT','VT','VA','WA','WV','WI','WY']\n",
    "'''\n"
   ]
  },
  {
   "cell_type": "code",
   "execution_count": null,
   "metadata": {},
   "outputs": [],
   "source": [
    "import pandas as pd\n",
    "import numpy as np\n",
    "import copy\n",
    "from sklearn.preprocessing import LabelEncoder\n",
    "from sklearn.preprocessing import LabelBinarizer\n",
    "\n",
    "\n",
    "def oneHot(data,oneHot_catlist):\n",
    "    lb = LabelBinarizer()\n",
    "    for cat in oneHot_catlist:\n",
    "        print(cat)\n",
    "        lb_results = lb.fit_transform(data[cat])\n",
    "        colN = []\n",
    "        for c in lb.classes_:\n",
    "            colN.append(cat+'_'+str(c))\n",
    "        print(colN)\n",
    "        print(lb_results)\n",
    "        lb_results_df = pd.DataFrame(lb_results, columns=colN)\n",
    "        data = pd.concat([data, lb_results_df],axis=1)\n",
    "        data = data.drop(columns=cat)\n",
    "        \n",
    "    return data\n",
    "\n",
    "cleanData = 'cleanData.csv'\n",
    "df = pd.read_csv(cleanData)\n",
    "\n",
    "\n",
    "oneHot_catlist = ['QUARTER','MONTH', 'DAY_OF_MONTH', 'DAY_OF_WEEK','CARRIER','ORIGIN','DEST', 'DEST_STATE', 'carrier_lg']\n",
    "oneHot_data = oneHot(df, oneHot_catlist)\n",
    "\n",
    "oneHot_data.to_csv(r'oneHotData.csv', index = False)"
   ]
  },
  {
   "cell_type": "markdown",
   "metadata": {},
   "source": [
    "Load calculatable portion of oneHotData\n",
    "----"
   ]
  },
  {
   "cell_type": "code",
   "execution_count": 1,
   "metadata": {},
   "outputs": [
    {
     "name": "stdout",
     "output_type": "stream",
     "text": [
      "1000001\n"
     ]
    }
   ],
   "source": [
    "import pandas as pd\n",
    "import csv\n",
    "\n",
    "oneHotData = 'oneHotData.csv'\n",
    "\n",
    "data= []\n",
    "with open(oneHotData) as csv_file:\n",
    "        csv_reader = csv.reader(csv_file, delimiter=',')\n",
    "        line_count = 0\n",
    "        for row in csv_reader:\n",
    "            line_count += 1\n",
    "            data.append(row)\n",
    "            if line_count > 999999:\n",
    "                break\n",
    "        \n",
    "print(line_count)\n",
    "\n",
    "data = pd.DataFrame(data[1:], columns=data[0])\n"
   ]
  },
  {
   "cell_type": "code",
   "execution_count": null,
   "metadata": {},
   "outputs": [],
   "source": [
    "OutputYs = 'ARR_DELAY_GROUP'\n",
    "oneHot_data = oneHot_data.sample(frac=1)\n",
    "oneHot_data[OutputYs] = oneHot_data[OutputYs].astype('int')\n",
    "\n",
    "Ydata = oneHot_data[OutputYs].copy()\n",
    "Xdata = oneHot_data.drop([OutputYs], axis=1)\n",
    "\n",
    "Xdata.to_csv(r'oneHotDataX.csv', index = False)\n",
    "Ydata.to_csv(r'oneHotDataY.csv', index = False)"
   ]
  },
  {
   "cell_type": "code",
   "execution_count": 6,
   "metadata": {},
   "outputs": [
    {
     "data": {
      "text/html": [
       "<div>\n",
       "<style scoped>\n",
       "    .dataframe tbody tr th:only-of-type {\n",
       "        vertical-align: middle;\n",
       "    }\n",
       "\n",
       "    .dataframe tbody tr th {\n",
       "        vertical-align: top;\n",
       "    }\n",
       "\n",
       "    .dataframe thead th {\n",
       "        text-align: right;\n",
       "    }\n",
       "</style>\n",
       "<table border=\"1\" class=\"dataframe\">\n",
       "  <thead>\n",
       "    <tr style=\"text-align: right;\">\n",
       "      <th></th>\n",
       "      <th>count</th>\n",
       "      <th>unique</th>\n",
       "      <th>top</th>\n",
       "      <th>freq</th>\n",
       "    </tr>\n",
       "  </thead>\n",
       "  <tbody>\n",
       "    <tr>\n",
       "      <th>YEAR</th>\n",
       "      <td>1000000</td>\n",
       "      <td>2</td>\n",
       "      <td>2018</td>\n",
       "      <td>665959</td>\n",
       "    </tr>\n",
       "    <tr>\n",
       "      <th>FL_NUM</th>\n",
       "      <td>1000000</td>\n",
       "      <td>6884</td>\n",
       "      <td>481</td>\n",
       "      <td>569</td>\n",
       "    </tr>\n",
       "    <tr>\n",
       "      <th>Route</th>\n",
       "      <td>1000000</td>\n",
       "      <td>4138</td>\n",
       "      <td>3383.0</td>\n",
       "      <td>3246</td>\n",
       "    </tr>\n",
       "    <tr>\n",
       "      <th>CRS_DEP_TIME</th>\n",
       "      <td>1000000</td>\n",
       "      <td>1238</td>\n",
       "      <td>360</td>\n",
       "      <td>20612</td>\n",
       "    </tr>\n",
       "    <tr>\n",
       "      <th>DISTANCE</th>\n",
       "      <td>1000000</td>\n",
       "      <td>1179</td>\n",
       "      <td>337</td>\n",
       "      <td>7661</td>\n",
       "    </tr>\n",
       "    <tr>\n",
       "      <th>...</th>\n",
       "      <td>...</td>\n",
       "      <td>...</td>\n",
       "      <td>...</td>\n",
       "      <td>...</td>\n",
       "    </tr>\n",
       "    <tr>\n",
       "      <th>carrier_lg_G4</th>\n",
       "      <td>1000000</td>\n",
       "      <td>2</td>\n",
       "      <td>0</td>\n",
       "      <td>989004</td>\n",
       "    </tr>\n",
       "    <tr>\n",
       "      <th>carrier_lg_NK</th>\n",
       "      <td>1000000</td>\n",
       "      <td>2</td>\n",
       "      <td>0</td>\n",
       "      <td>997612</td>\n",
       "    </tr>\n",
       "    <tr>\n",
       "      <th>carrier_lg_SY</th>\n",
       "      <td>1000000</td>\n",
       "      <td>2</td>\n",
       "      <td>0</td>\n",
       "      <td>999533</td>\n",
       "    </tr>\n",
       "    <tr>\n",
       "      <th>carrier_lg_UA</th>\n",
       "      <td>1000000</td>\n",
       "      <td>2</td>\n",
       "      <td>0</td>\n",
       "      <td>876702</td>\n",
       "    </tr>\n",
       "    <tr>\n",
       "      <th>carrier_lg_WN</th>\n",
       "      <td>1000000</td>\n",
       "      <td>2</td>\n",
       "      <td>0</td>\n",
       "      <td>783851</td>\n",
       "    </tr>\n",
       "  </tbody>\n",
       "</table>\n",
       "<p>696 rows × 4 columns</p>\n",
       "</div>"
      ],
      "text/plain": [
       "                 count unique     top    freq\n",
       "YEAR           1000000      2    2018  665959\n",
       "FL_NUM         1000000   6884     481     569\n",
       "Route          1000000   4138  3383.0    3246\n",
       "CRS_DEP_TIME   1000000   1238     360   20612\n",
       "DISTANCE       1000000   1179     337    7661\n",
       "...                ...    ...     ...     ...\n",
       "carrier_lg_G4  1000000      2       0  989004\n",
       "carrier_lg_NK  1000000      2       0  997612\n",
       "carrier_lg_SY  1000000      2       0  999533\n",
       "carrier_lg_UA  1000000      2       0  876702\n",
       "carrier_lg_WN  1000000      2       0  783851\n",
       "\n",
       "[696 rows x 4 columns]"
      ]
     },
     "execution_count": 6,
     "metadata": {},
     "output_type": "execute_result"
    }
   ],
   "source": [
    "data.describe().transpose()"
   ]
  },
  {
   "cell_type": "code",
   "execution_count": null,
   "metadata": {},
   "outputs": [],
   "source": [
    "import pandas as pd\n",
    "import numpy as np\n",
    "import matplotlib.pyplot as plt\n",
    "import sklearn\n",
    "from sklearn.neural_network import MLPClassifier\n",
    "from sklearn.neural_network import MLPRegressor\n",
    "\n",
    "# Import necessary modules\n",
    "from sklearn.model_selection import train_test_split\n",
    "from sklearn.metrics import mean_squared_error\n",
    "from math import sqrt\n",
    "from sklearn.metrics import r2_score\n",
    "\n",
    "Xdata = pd.read_csv('oneHotDataX.csv')\n",
    "Ydata = pd.read_csv('oneHotDataY.csv')\n",
    "\n",
    "Xdata.describe().transpose()"
   ]
  },
  {
   "cell_type": "markdown",
   "metadata": {},
   "source": [
    "Normalization\n",
    "----"
   ]
  },
  {
   "cell_type": "code",
   "execution_count": null,
   "metadata": {},
   "outputs": [],
   "source": [
    "\n",
    "\n",
    "XdataN = Xdata[0:1000000].copy()\n",
    "\n",
    "predictors = list(XdataN.columns)\n",
    "\n",
    "XdataN[predictors] = XdataN[predictors]/XdataN[predictors].max()\n",
    "XdataN.describe().transpose()"
   ]
  },
  {
   "cell_type": "code",
   "execution_count": null,
   "metadata": {},
   "outputs": [],
   "source": [
    "YdataN = Ydata[0:1000000].copy()\n",
    "\n",
    "def binary(x):\n",
    "    if x['ARR_DELAY_GROUP']>0:\n",
    "        return 1\n",
    "    else:\n",
    "        return 0\n",
    "\n",
    "YdataN = YdataN.apply(lambda x: binary(x), axis=1)\n",
    "YdataN"
   ]
  },
  {
   "cell_type": "markdown",
   "metadata": {},
   "source": [
    "Model training process\n",
    "-----"
   ]
  },
  {
   "cell_type": "code",
   "execution_count": null,
   "metadata": {},
   "outputs": [],
   "source": [
    "\n",
    "\n",
    "X_train, X_test, y_train, y_test = train_test_split(XdataN, YdataN, test_size=0.30, random_state=40)\n",
    "print(X_train.shape); print(X_test.shape)"
   ]
  },
  {
   "cell_type": "code",
   "execution_count": null,
   "metadata": {},
   "outputs": [],
   "source": [
    "mlp = MLPClassifier(hidden_layer_sizes=(8,8,8), activation='relu', solver='adam', max_iter=500)\n",
    "mlp.fit(X_train,y_train)\n",
    "\n",
    "predict_train = mlp.predict(X_train)\n",
    "predict_test = mlp.predict(X_test)\n",
    "\n",
    "\n",
    "from sklearn.metrics import classification_report,confusion_matrix\n",
    "print(confusion_matrix(y_train,predict_train))\n",
    "print(classification_report(y_train,predict_train))"
   ]
  },
  {
   "cell_type": "code",
   "execution_count": null,
   "metadata": {},
   "outputs": [],
   "source": [
    "# print(mlp.score(predict_test,y_test)\n",
    "y_train.shape"
   ]
  },
  {
   "cell_type": "code",
   "execution_count": null,
   "metadata": {},
   "outputs": [],
   "source": []
  },
  {
   "cell_type": "code",
   "execution_count": null,
   "metadata": {},
   "outputs": [],
   "source": []
  },
  {
   "cell_type": "code",
   "execution_count": null,
   "metadata": {},
   "outputs": [],
   "source": []
  },
  {
   "cell_type": "code",
   "execution_count": null,
   "metadata": {},
   "outputs": [],
   "source": [
    "from sklearn.model_selection import train_test_split\n",
    "\n",
    "\n",
    "# Xcat = result_df[categorical]\n",
    "# Xdata = oneHot_data[inputXs]\n",
    "# Ydata = oneHot_data[OutputYs]\n",
    "\n",
    "from sklearn import preprocessing\n",
    "\n",
    "\n",
    "normalized_X = preprocessing.normalize(Xdata)\n",
    "\n",
    "min_max_scaler = preprocessing.MinMaxScaler()\n",
    "X_train_minmax = min_max_scaler.fit_transform(normalized_X)\n",
    "\n",
    "npXdata = X_train_minmax\n",
    "\n",
    "\n",
    "npYdata = Ydata.to_numpy()"
   ]
  },
  {
   "cell_type": "code",
   "execution_count": null,
   "metadata": {},
   "outputs": [],
   "source": []
  },
  {
   "cell_type": "code",
   "execution_count": null,
   "metadata": {},
   "outputs": [],
   "source": []
  },
  {
   "cell_type": "code",
   "execution_count": null,
   "metadata": {},
   "outputs": [],
   "source": []
  },
  {
   "cell_type": "code",
   "execution_count": null,
   "metadata": {},
   "outputs": [],
   "source": [
    "import xdeep"
   ]
  },
  {
   "cell_type": "code",
   "execution_count": null,
   "metadata": {},
   "outputs": [],
   "source": [
    "X_train = npXdata[:450000]\n",
    "X_test = npXdata[450000:]\n",
    "\n",
    "Y_train = npYdata[:450000]\n",
    "Y_test = npYdata[450000:]\n",
    "nb_classes = np.unique(Y_train)\n",
    "print(nb_classes.size)\n",
    "np.size(X_train, 1)"
   ]
  },
  {
   "cell_type": "code",
   "execution_count": null,
   "metadata": {},
   "outputs": [],
   "source": [
    "import numpy as np\n",
    "from sklearn.ensemble import RandomForestClassifier\n",
    "from anchor import utils\n",
    "\n",
    "c = RandomForestClassifier(n_estimators=50, n_jobs=5)\n",
    "c.fit(X_train,Y_train)"
   ]
  },
  {
   "cell_type": "code",
   "execution_count": null,
   "metadata": {},
   "outputs": [],
   "source": [
    "import xdeep.xlocal.perturbation.xdeep_tabular as xdeep_tabular\n",
    "%load_ext autoreload\n",
    "%autoreload 2\n",
    "\n",
    "explainer = xdeep_tabular.TabularExplainer(c.predict_proba, ['<=50K', '>50K'], inputXs, X_train,\n",
    "                                           categorical_features=Xcat, categorical_names=categorical)"
   ]
  },
  {
   "cell_type": "code",
   "execution_count": null,
   "metadata": {},
   "outputs": [],
   "source": [
    "def tf_cov(x):\n",
    "    mean_x = tf.reduce_mean(x, axis=0, keep_dims=True)\n",
    "    mx = tf.matmul(tf.transpose(mean_x), mean_x)\n",
    "    vx = tf.matmul(tf.transpose(x), x)/tf.cast(tf.shape(x)[0], tf.float32)\n",
    "    cov_xx = vx - mx\n",
    "    return cov_xx\n",
    "\n"
   ]
  },
  {
   "cell_type": "code",
   "execution_count": null,
   "metadata": {},
   "outputs": [],
   "source": [
    "Y_train = Y_train.reshape(np.size(Y_train, 0), 1)\n",
    "Y_test = Y_test.reshape(np.size(Y_test, 0), 1)\n",
    "# nb_classes = np.unique(Y_train)\n",
    "# print(nb_classes)"
   ]
  },
  {
   "cell_type": "code",
   "execution_count": null,
   "metadata": {},
   "outputs": [],
   "source": [
    "import tensorflow as tf\n",
    "learning_rate = 0.1\n",
    "training_epochs = 1000\n",
    "\n",
    "nb_classes = np.unique(Y_train).size\n",
    "inputSize = np.size(X_train, 1)\n",
    "outputSize = 1\n",
    "\n",
    "X = tf.placeholder(tf.float32, shape=[None, inputSize])\n",
    "Y = tf.placeholder(tf.int32, shape=[None, outputSize])\n",
    "Y_one_hot = tf.one_hot(Y, nb_classes)\n",
    "Y_one_hot = tf.reshape(Y_one_hot, [-1, nb_classes])\n",
    "\n",
    "W1 = tf.Variable(tf.random_normal([inputSize, 10]), name = 'weight1')\n",
    "b1 = tf.Variable(tf.random_normal([10]), name = 'bias1')\n",
    "L1 = tf.nn.relu(tf.matmul(X, W1) + b1)\n",
    "\n",
    "W2 = tf.Variable(tf.random_normal([10, 10]), name = 'weight2')\n",
    "b2 = tf.Variable(tf.random_normal([10]), name = 'bias2')\n",
    "L2 = tf.nn.relu(tf.matmul(L1, W2) + b2)\n",
    "\n",
    "W3 = tf.Variable(tf.random_normal([10, nb_classes]), name = 'weight3')\n",
    "b3 = tf.Variable(tf.random_normal([nb_classes]), name = 'bias3')\n",
    "logits = tf.matmul(L2, W3) + b3\n",
    "\n",
    "\n",
    "hypothesis = tf.nn.softmax(logits)\n",
    "# cost = -tf.reduce_mean(Y * tf.log(hypothesis) + (1 - Y) * tf.log(1 - hypothesis))\n",
    "\n",
    "cost_i = tf.nn.softmax_cross_entropy_with_logits_v2(logits=logits, labels=Y_one_hot)\n",
    "cost = tf.reduce_mean(cost_i)\n",
    "\n",
    "optimizer = tf.train.GradientDescentOptimizer(learning_rate=learning_rate).minimize(cost)\n",
    "\n",
    "prediction = tf.argmax(hypothesis, 1)\n",
    "correct_prediction = tf.equal(prediction, tf.argmax(Y_one_hot, 1))\n",
    "accuracy = tf.reduce_mean(tf.cast(correct_prediction, dtype=tf.float32))\n"
   ]
  },
  {
   "cell_type": "code",
   "execution_count": null,
   "metadata": {},
   "outputs": [],
   "source": [
    "with tf.Session() as sess:\n",
    "    sess.run(tf.global_variables_initializer())\n",
    "    \n",
    "    for epoch in range(training_epochs):\n",
    "        sess.run([cost, optimizer], feed_dict={X: X_train, Y: Y_train})\n",
    "        if epoch % 200 == 0:\n",
    "            loss, acc = sess.run([cost, accuracy], feed_dict={X: X_train, Y: Y_train})\n",
    "            print(\"Step: {:5}\\tLoss: {:.3f}\\tAcc: {:.2%}\".format(epoch, loss, acc))\n",
    "    cov = sess.run(tf_cov(tf.constant(X_train, dtype=tf.float32)))\n",
    "    pred = sess.run(prediction, feed_dict= {X: X_train})\n",
    "    for p, y in zip(pred, Y_train.flatten()):\n",
    "        print(\"[{}] Prediction: {} True Y: {}\".format(p==int(y), p, int(y)))"
   ]
  },
  {
   "cell_type": "code",
   "execution_count": null,
   "metadata": {},
   "outputs": [],
   "source": [
    "from sklearn.linear_model import LogisticRegression\n",
    "clf = LogisticRegression(random_state=0).fit(X_train, Y_train)\n",
    "pred = clf.predict(X_test)\n",
    "for p, y in zip(pred, Y_test.flatten()):\n",
    "        print(\"[{}] Prediction: {} True Y: {}\".format(p==int(y), p, int(y)))"
   ]
  },
  {
   "attachments": {
    "image.png": {
     "image/png": "[encoded data removed]"
    }
   },
   "cell_type": "markdown",
   "metadata": {},
   "source": [
    "1.   one-hot carrier_lg  \n",
    "inputXs =   \n",
    "['YEAR', 'QUARTER', 'MONTH', 'DAY_OF_MONTH', 'DAY_OF_WEEK',  \n",
    " 'CARRIER', 'FL_NUM', 'Route', 'ORIGIN', 'DEST', 'CRS_DEP_TIME',  \n",
    " 'CRS_ARR_TIME', 'CRS_ELAPSED_TIME', 'DISTANCE', 'PASSENGERS', 'EMPFTE',  \n",
    " 'NET_INCOME', 'OP_REVENUES', 'fare', 'large_ms',  \n",
    " 'fare_lg', 'HUBS', '0', 'AA', 'AS', 'B6', 'DL', 'F9',  \n",
    " 'G4', 'NK', 'SY', 'UA', 'WN']  \n",
    "OutputY =   \n",
    "'ARR_DELAY_GROUP'  \n",
    "logreg.score(X_test,Y_test)  \n",
    "0.43208\n",
    "\n",
    "![image.png](attachment:image.png)"
   ]
  },
  {
   "cell_type": "code",
   "execution_count": null,
   "metadata": {},
   "outputs": [],
   "source": []
  }
 ],
 "metadata": {
  "kernelspec": {
   "display_name": "Python 3",
   "language": "python",
   "name": "python3"
  },
  "language_info": {
   "codemirror_mode": {
    "name": "ipython",
    "version": 3
   },
   "file_extension": ".py",
   "mimetype": "text/x-python",
   "name": "python",
   "nbconvert_exporter": "python",
   "pygments_lexer": "ipython3",
   "version": "3.7.6"
  }
 },
 "nbformat": 4,
 "nbformat_minor": 2
}
